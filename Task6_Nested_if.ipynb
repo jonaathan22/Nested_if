{
 "cells": [
  {
   "cell_type": "code",
   "execution_count": 1,
   "id": "2b872290-27a0-4b70-863c-bdeedac7f09f",
   "metadata": {},
   "outputs": [],
   "source": [
    "#Assignment: Nested If"
   ]
  },
  {
   "cell_type": "code",
   "execution_count": null,
   "id": "855b1031-f428-4e8a-88a8-51d6c8b81996",
   "metadata": {},
   "outputs": [],
   "source": [
    "#Q1. Check if a number is positive, negative, or zero. If positive, check whether it is even or odd.\n",
    " #Input: 5\n",
    " #Output: Positive and Odd"
   ]
  },
  {
   "cell_type": "code",
   "execution_count": 3,
   "id": "b703d9a9-d72b-4957-8ad1-85e610de89c3",
   "metadata": {},
   "outputs": [
    {
     "name": "stdin",
     "output_type": "stream",
     "text": [
      "Enter a number: 5\n"
     ]
    },
    {
     "name": "stdout",
     "output_type": "stream",
     "text": [
      "Positive and Odd\n"
     ]
    }
   ],
   "source": [
    "num1 = int(input(\"Enter a number:\"))\n",
    "\n",
    "if num1>0:\n",
    "    if num1%2 == 0:\n",
    "        print(\"Positive and Even \")\n",
    "    else:\n",
    "        print(\"Positive and Odd\")\n",
    "else:\n",
    "    if num1<0:\n",
    "        print(\"Negetive number\")\n",
    "    else:\n",
    "        print('Number is zero')"
   ]
  },
  {
   "cell_type": "code",
   "execution_count": null,
   "id": "8bc494ed-27b1-4d94-a62d-4314a3333d46",
   "metadata": {},
   "outputs": [],
   "source": []
  },
  {
   "cell_type": "code",
   "execution_count": null,
   "id": "c10595e5-73ba-44a8-a13b-43b377b12a13",
   "metadata": {},
   "outputs": [],
   "source": [
    "#Q2. Check a student's marks. If marks > 50, check if they are above 90 to grade as 'A', otherwise grade 'B'.\n",
    " #Input: 95\n",
    " #Output: Grade A"
   ]
  },
  {
   "cell_type": "code",
   "execution_count": 8,
   "id": "de94a546-a660-4eca-9bb4-cae8a7784db5",
   "metadata": {},
   "outputs": [
    {
     "name": "stdin",
     "output_type": "stream",
     "text": [
      "Enter marks: 95\n"
     ]
    },
    {
     "name": "stdout",
     "output_type": "stream",
     "text": [
      "Grade A\n"
     ]
    }
   ],
   "source": [
    "marks = int(input('Enter marks:'))\n",
    "\n",
    "if marks>50:\n",
    "    if marks>90:\n",
    "        print('Grade A')\n",
    "    else:\n",
    "        print('Grade B')\n",
    "else:\n",
    "    print('Less marks')\n",
    "    "
   ]
  },
  {
   "cell_type": "code",
   "execution_count": null,
   "id": "201be963-97d7-4872-ab04-8f3cc2448dcc",
   "metadata": {},
   "outputs": [],
   "source": []
  },
  {
   "cell_type": "code",
   "execution_count": null,
   "id": "89a8add0-be84-4e81-a27e-2868d7cd64a7",
   "metadata": {},
   "outputs": [],
   "source": [
    "#Q3. Check if a person is eligible to vote. If age ≥ 18, check if citizenship is “Yes” to allow voting.\n",
    " #Input: age=20, citizenship=\"Yes\"\n",
    " #Output: Eligible to vote"
   ]
  },
  {
   "cell_type": "code",
   "execution_count": 16,
   "id": "194527f6-64a9-4aec-a577-e6071e167b45",
   "metadata": {},
   "outputs": [
    {
     "name": "stdin",
     "output_type": "stream",
     "text": [
      "Enter age: 20\n",
      " yes\n"
     ]
    },
    {
     "name": "stdout",
     "output_type": "stream",
     "text": [
      "ELigible to vote\n"
     ]
    }
   ],
   "source": [
    "age = int(input('Enter age:'))\n",
    "citizenship = input()\n",
    "\n",
    "if age>= 18:\n",
    "    if citizenship == 'yes':\n",
    "        print('ELigible to vote')\n",
    "    else:\n",
    "        print('Not a citizen')\n",
    "else:\n",
    "    print('Not eligible')"
   ]
  },
  {
   "cell_type": "code",
   "execution_count": null,
   "id": "6d05be6a-e454-489d-a4c5-efd4a16548f0",
   "metadata": {},
   "outputs": [],
   "source": []
  },
  {
   "cell_type": "code",
   "execution_count": null,
   "id": "a0bb31fa-ae87-4d4f-bf42-20d301fdd98e",
   "metadata": {},
   "outputs": [],
   "source": [
    "#Q4. Check whether a character is a vowel or consonant. If consonant, check if it is uppercase or lowercase.\n",
    " #Input: 'b'\n",
    " #Output: Consonant and Lowercase\n"
   ]
  },
  {
   "cell_type": "code",
   "execution_count": 113,
   "id": "390b37e6-0a59-4bb8-bc35-d5b38da3c74a",
   "metadata": {},
   "outputs": [
    {
     "name": "stdin",
     "output_type": "stream",
     "text": [
      "Enter a character: B\n"
     ]
    },
    {
     "name": "stdout",
     "output_type": "stream",
     "text": [
      "Consonant and Uppercase\n"
     ]
    }
   ],
   "source": [
    "ch = input('Enter a character:')\n",
    "\n",
    "if ch in 'aeiou':\n",
    "    print('vowel')\n",
    "else:\n",
    "    if ch.isupper():\n",
    "        print(\"Consonant and Uppercase\")\n",
    "    else:\n",
    "        print('\"Consonant and Lowercase\"')"
   ]
  },
  {
   "cell_type": "code",
   "execution_count": null,
   "id": "43316cd4-1ab5-4805-94ef-226f04abcfb7",
   "metadata": {},
   "outputs": [],
   "source": []
  },
  {
   "cell_type": "code",
   "execution_count": null,
   "id": "8edb0c13-6455-4484-a851-b3a43992c8ff",
   "metadata": {},
   "outputs": [],
   "source": []
  },
  {
   "cell_type": "code",
   "execution_count": null,
   "id": "05a3801e-82cf-47e8-abcb-441f44c00ff7",
   "metadata": {},
   "outputs": [],
   "source": [
    "#Q5. Check whether a year is a leap year.\n",
    " #Input: 2000\n",
    " #utput: Leap Year"
   ]
  },
  {
   "cell_type": "code",
   "execution_count": 102,
   "id": "f031b25e-d211-41e5-af67-91d7badda3fa",
   "metadata": {},
   "outputs": [
    {
     "name": "stdin",
     "output_type": "stream",
     "text": [
      " 2000\n"
     ]
    },
    {
     "name": "stdout",
     "output_type": "stream",
     "text": [
      "Leap Year\n"
     ]
    }
   ],
   "source": [
    "year = int(input())\n",
    "\n",
    "if (year%4 == 0 and year%100 != 0) or year%400 == 0:\n",
    "    print(\"Leap Year\")\n",
    "else:\n",
    "    print('Not a leap year')"
   ]
  },
  {
   "cell_type": "code",
   "execution_count": null,
   "id": "a687fa44-c605-4fd7-88a3-a55e0fc76f3f",
   "metadata": {},
   "outputs": [],
   "source": []
  },
  {
   "cell_type": "code",
   "execution_count": null,
   "id": "bb2a153e-9bef-4f24-ba68-d83bd256b0c0",
   "metadata": {},
   "outputs": [],
   "source": []
  },
  {
   "cell_type": "code",
   "execution_count": 26,
   "id": "f326857f-b216-49ac-8cf1-2f4bd6fec3a8",
   "metadata": {},
   "outputs": [],
   "source": [
    "#Q6. Find the largest of three numbers. First, check if the first number is largest, otherwise check between the other two.\n",
    " #Input: 10, 25, 15\n",
    " #Output: Largest number is 25"
   ]
  },
  {
   "cell_type": "code",
   "execution_count": 34,
   "id": "cf110822-d6da-4764-8546-c400de9f0085",
   "metadata": {},
   "outputs": [
    {
     "name": "stdin",
     "output_type": "stream",
     "text": [
      "Enter a number 1: 10\n",
      "Enter a number 2: 25\n",
      "Enter a number 3: 15\n"
     ]
    },
    {
     "name": "stdout",
     "output_type": "stream",
     "text": [
      "Largest number is 25\n"
     ]
    }
   ],
   "source": [
    "a = int(input('Enter a number 1:'))\n",
    "b = int(input('Enter a number 2:'))\n",
    "c = int(input('Enter a number 3:'))\n",
    "\n",
    "if a>b:\n",
    "    if a>c:\n",
    "        print('Largest number is',a)\n",
    "    else:\n",
    "        print('Largest number is',c)\n",
    "else:\n",
    "    if b>c:\n",
    "        print('Largest number is',b)\n",
    "    else:\n",
    "        print('Largest number is',c)"
   ]
  },
  {
   "cell_type": "code",
   "execution_count": null,
   "id": "59095881-4b5a-4f96-9639-cc8778825ce7",
   "metadata": {},
   "outputs": [],
   "source": []
  },
  {
   "cell_type": "code",
   "execution_count": null,
   "id": "75331729-a78f-42a5-a168-ffdd88b36013",
   "metadata": {},
   "outputs": [],
   "source": []
  },
  {
   "cell_type": "code",
   "execution_count": null,
   "id": "4833c04a-a195-49c9-abab-7a08da2e0e5c",
   "metadata": {},
   "outputs": [],
   "source": [
    "#Q7. Check whether a number is divisible by 2, 3, or both. If divisible by both, print “Divisible by 6”.\n",
    " #Input: 12\n",
    " #Output: Divisible by 6"
   ]
  },
  {
   "cell_type": "code",
   "execution_count": 37,
   "id": "a6d66c49-231e-42bf-8267-f824dbd2e66c",
   "metadata": {},
   "outputs": [
    {
     "name": "stdin",
     "output_type": "stream",
     "text": [
      "Enter a number 2\n"
     ]
    },
    {
     "name": "stdout",
     "output_type": "stream",
     "text": [
      "Not Divisible by 6\n"
     ]
    }
   ],
   "source": [
    "num2 = int(input('Enter a number'))\n",
    "\n",
    "if num2%2 == 0 and num2%3==0:\n",
    "    print('Divisible by 6')\n",
    "else:\n",
    "    print('Not Divisible by 6')"
   ]
  },
  {
   "cell_type": "code",
   "execution_count": null,
   "id": "df398984-1114-4b1b-9b32-8d436a31e88f",
   "metadata": {},
   "outputs": [],
   "source": []
  },
  {
   "cell_type": "code",
   "execution_count": null,
   "id": "9364582c-d24a-48c3-a170-29fdf5ceedfe",
   "metadata": {},
   "outputs": [],
   "source": []
  },
  {
   "cell_type": "code",
   "execution_count": null,
   "id": "f6c15f48-d3f5-4f27-95c1-82f4bbca3622",
   "metadata": {},
   "outputs": [],
   "source": [
    "#Q8. Check if a person is eligible for a senior citizen discount. If age > 60, check if they have a membership card.\n",
    " #Input: age=65, membership=\"Yes\"\n",
    " #Output: Eligible for discount"
   ]
  },
  {
   "cell_type": "code",
   "execution_count": 41,
   "id": "41ea8fe5-ffac-4a84-bd22-8ede3667071e",
   "metadata": {},
   "outputs": [
    {
     "name": "stdin",
     "output_type": "stream",
     "text": [
      "Enter age: 65\n",
      " yes\n"
     ]
    },
    {
     "name": "stdout",
     "output_type": "stream",
     "text": [
      "Eligible for discount\n"
     ]
    }
   ],
   "source": [
    "age_ = int(input(\"Enter age:\"))\n",
    "membership = input()\n",
    "\n",
    "if age_>60:\n",
    "    if membership == 'yes':\n",
    "        print('Eligible for discount')\n",
    "    else:\n",
    "        print('Not Eligible for discount')\n",
    "else:\n",
    "    print('Not Eligible for discount')"
   ]
  },
  {
   "cell_type": "code",
   "execution_count": null,
   "id": "fcc65883-b0aa-4d4f-b0b4-dabbcf64552c",
   "metadata": {},
   "outputs": [],
   "source": []
  },
  {
   "cell_type": "code",
   "execution_count": null,
   "id": "ea0c7050-ef4f-4c5b-a1c5-4b3fa8481e1c",
   "metadata": {},
   "outputs": [],
   "source": [
    "#Q9. Check whether a person can drive. If age ≥ 18, check if they have a valid license.\n",
    " #Input: age=19, license=\"Yes\"\n",
    " #Output: Can drive"
   ]
  },
  {
   "cell_type": "code",
   "execution_count": 47,
   "id": "ae774fb5-9fab-411d-a123-f46f205f8879",
   "metadata": {},
   "outputs": [
    {
     "name": "stdin",
     "output_type": "stream",
     "text": [
      "Enter age: 19\n",
      " yes\n"
     ]
    },
    {
     "name": "stdout",
     "output_type": "stream",
     "text": [
      "Can drive\n"
     ]
    }
   ],
   "source": [
    "age1 = int(input(\"Enter age:\"))\n",
    "license = input()\n",
    "\n",
    "if age1>= 18:\n",
    "    if license == 'yes':\n",
    "        print('Can drive')\n",
    "    else:\n",
    "        print('Cannot Drive')\n",
    "else:\n",
    "    print('Cannot Drive')"
   ]
  },
  {
   "cell_type": "code",
   "execution_count": null,
   "id": "c7b6ae35-0c28-4ab4-a351-2f54141d07f1",
   "metadata": {},
   "outputs": [],
   "source": []
  },
  {
   "cell_type": "code",
   "execution_count": null,
   "id": "169c991d-ca74-44c9-ae89-aed77458ff52",
   "metadata": {},
   "outputs": [],
   "source": [
    "#Q10. Determine a student’s grade based on marks.\n",
    " #Input: 78\n",
    " #Output: Grade B"
   ]
  },
  {
   "cell_type": "code",
   "execution_count": 53,
   "id": "65d4e33e-d517-499f-9fbb-a367f91a79b6",
   "metadata": {},
   "outputs": [
    {
     "name": "stdin",
     "output_type": "stream",
     "text": [
      "Enter marks: 78\n"
     ]
    },
    {
     "name": "stdout",
     "output_type": "stream",
     "text": [
      "Grade B\n"
     ]
    }
   ],
   "source": [
    "Marks = int(input('Enter marks:'))\n",
    "\n",
    "if Marks>30:\n",
    "    if Marks>85:\n",
    "        print('Grade A')\n",
    "    elif Marks>75:\n",
    "        print('Grade B')\n",
    "    elif Marks>65:\n",
    "        print('Grade C')\n",
    "    elif Marks>55:\n",
    "        print('Grade D')\n",
    "    else:\n",
    "        print('Grade E')\n",
    "else:\n",
    "    print('Fail')"
   ]
  },
  {
   "cell_type": "code",
   "execution_count": null,
   "id": "d68f204d-e9a0-4467-a64c-dc281072fccf",
   "metadata": {},
   "outputs": [],
   "source": []
  },
  {
   "cell_type": "code",
   "execution_count": null,
   "id": "0ae05b81-7bb6-4231-992a-97e21ff86713",
   "metadata": {},
   "outputs": [],
   "source": [
    "#Q11. Check whether a number is positive. If positive, check if it is divisible by 5.\n",
    " #Input: 20\n",
    " #Output: Positive and divisible by 5"
   ]
  },
  {
   "cell_type": "code",
   "execution_count": 57,
   "id": "24672a14-5bab-483f-b1b7-3397620c6b29",
   "metadata": {},
   "outputs": [
    {
     "name": "stdin",
     "output_type": "stream",
     "text": [
      "Enter a number: 20\n"
     ]
    },
    {
     "name": "stdout",
     "output_type": "stream",
     "text": [
      "Positive and divisible by 5\n"
     ]
    }
   ],
   "source": [
    "num5 = int(input('Enter a number:'))\n",
    "\n",
    "if num5>0:\n",
    "    if num5%5 == 0:\n",
    "        print('Positive and divisible by 5')\n",
    "    else:\n",
    "        print('Positive but not divisible by 5')\n",
    "else:\n",
    "    print('Negetive number')"
   ]
  },
  {
   "cell_type": "code",
   "execution_count": null,
   "id": "2dcc07c6-fce5-4ae2-9224-2ee2ae0739fa",
   "metadata": {},
   "outputs": [],
   "source": []
  },
  {
   "cell_type": "code",
   "execution_count": null,
   "id": "2be2b13b-8939-4282-bee8-193010bf6ff8",
   "metadata": {},
   "outputs": [],
   "source": [
    "#Q12. Check if a number is even. If even, check if it is also a multiple of 4.\n",
    " #Input: 16\n",
    " #Output: Even and divisible by 4"
   ]
  },
  {
   "cell_type": "code",
   "execution_count": 64,
   "id": "c7062b25-ff5b-430e-b524-ca0c8ee1d2a8",
   "metadata": {},
   "outputs": [
    {
     "name": "stdin",
     "output_type": "stream",
     "text": [
      "Enter a number: 16\n"
     ]
    },
    {
     "name": "stdout",
     "output_type": "stream",
     "text": [
      "Even and divisible by 4\n"
     ]
    }
   ],
   "source": [
    "num4 = int(input('Enter a number:'))\n",
    "\n",
    "if num4%2 == 0:\n",
    "    #print('Even number')\n",
    "    if num4%4 == 0:\n",
    "        print('Even and divisible by 4')\n",
    "    else:\n",
    "        print('Even but not divisible by 4')\n",
    "else:\n",
    "    print(\"Number is Odd\")"
   ]
  },
  {
   "cell_type": "code",
   "execution_count": null,
   "id": "3fe8fb53-6d82-41b6-82db-72121bb887f6",
   "metadata": {},
   "outputs": [],
   "source": []
  },
  {
   "cell_type": "code",
   "execution_count": null,
   "id": "79d26a58-556e-4ae2-85fb-40109f457fdd",
   "metadata": {},
   "outputs": [],
   "source": [
    "#Q13. Determine ticket price: If age < 12, child ticket; if 12–60, adult ticket; if above 60, senior ticket. If adult ticket, \n",
    "#check if it’s a weekend to apply 10% extra.\n",
    " #Input: age=30, weekend=\"Yes\"\n",
    " #Output: Adult ticket with 10% extra"
   ]
  },
  {
   "cell_type": "code",
   "execution_count": 73,
   "id": "d57e5d6b-e44a-4ce8-b237-91a25409cfae",
   "metadata": {},
   "outputs": [
    {
     "name": "stdin",
     "output_type": "stream",
     "text": [
      "Enter the age: 30\n",
      " yes\n"
     ]
    },
    {
     "name": "stdout",
     "output_type": "stream",
     "text": [
      "Adult ticket with 10% extra\n"
     ]
    }
   ],
   "source": [
    "age_a = int(input(\"Enter the age:\"))\n",
    "weekend = input()\n",
    "\n",
    "if age_a<12:\n",
    "    print('Child ticket')\n",
    "elif age_a>12 and age_a<60:\n",
    "        #print('Adult ticket')\n",
    "        if weekend == 'yes':\n",
    "            print('Adult ticket with 10% extra')\n",
    "        else:\n",
    "            print('Adult ticket')\n",
    "else:\n",
    "    print('Senior ticket')\n"
   ]
  },
  {
   "cell_type": "code",
   "execution_count": null,
   "id": "e279b934-0c73-4708-9cfe-3c1300017853",
   "metadata": {},
   "outputs": [],
   "source": []
  },
  {
   "cell_type": "code",
   "execution_count": null,
   "id": "2a05c6a0-f982-4056-8b2b-387fc83db5bb",
   "metadata": {},
   "outputs": [],
   "source": [
    "#Q14. Check eligibility for a scholarship. If marks ≥ 85, check if extracurricular activities ≥ 3 to approve scholarship.\n",
    " #Input: marks=90, activities=4\n",
    " #Output: Scholarship Approved"
   ]
  },
  {
   "cell_type": "code",
   "execution_count": 82,
   "id": "a127ef70-fb76-4a6e-935e-5a378a1a970a",
   "metadata": {},
   "outputs": [
    {
     "name": "stdin",
     "output_type": "stream",
     "text": [
      "Enter the obtained marks: 90\n",
      "Enter no. of activities done:  4\n"
     ]
    },
    {
     "name": "stdout",
     "output_type": "stream",
     "text": [
      "Scholarship Approved\n"
     ]
    }
   ],
   "source": [
    "mrks = int(input('Enter the obtained marks:'))\n",
    "activities = int(input('Enter no. of activities done: '))\n",
    "\n",
    "if mrks>=85:\n",
    "    if activities >=3:\n",
    "        print('Scholarship Approved')\n",
    "    else:\n",
    "        print('Scholarship not Approved')\n",
    "else:\n",
    "    print('Not eligible for Scholarship')"
   ]
  },
  {
   "cell_type": "code",
   "execution_count": null,
   "id": "cf14eab3-ef6d-47de-98e6-c071a850d5c6",
   "metadata": {},
   "outputs": [],
   "source": []
  },
  {
   "cell_type": "code",
   "execution_count": null,
   "id": "0b2efc04-3397-4ccd-a0c2-92af3e8b3a0a",
   "metadata": {},
   "outputs": [],
   "source": [
    "#Q15. Check a person’s BMI. If BMI < 18.5, underweight; if 18.5–24.9, normal; if 25–29.9, overweight; if ≥ 30, obese. Use nested if to categorize.\n",
    " #Input: BMI=27\n",
    " #Output: Overweight"
   ]
  },
  {
   "cell_type": "code",
   "execution_count": 90,
   "id": "a63df062-b26f-4598-ab6f-a81f2be5dbc5",
   "metadata": {},
   "outputs": [
    {
     "name": "stdin",
     "output_type": "stream",
     "text": [
      "enter the BMI value: 27\n"
     ]
    },
    {
     "name": "stdout",
     "output_type": "stream",
     "text": [
      "Overweight\n"
     ]
    }
   ],
   "source": [
    "BMI = float(input(\"enter the BMI value:\"))\n",
    "\n",
    "if BMI < 18.5:\n",
    "    print('underweight')\n",
    "elif BMI >= 18.5 and BMI <= 24.9:\n",
    "    print('Normal')\n",
    "elif BMI >= 25 and BMI <= 29.9:\n",
    "    print('Overweight')\n",
    "elif BMI >= 30:\n",
    "    print('obese')"
   ]
  },
  {
   "cell_type": "code",
   "execution_count": null,
   "id": "eacf2a5d-5ff5-422e-96cf-648f78a50161",
   "metadata": {},
   "outputs": [],
   "source": []
  }
 ],
 "metadata": {
  "kernelspec": {
   "display_name": "Python 3 (ipykernel)",
   "language": "python",
   "name": "python3"
  },
  "language_info": {
   "codemirror_mode": {
    "name": "ipython",
    "version": 3
   },
   "file_extension": ".py",
   "mimetype": "text/x-python",
   "name": "python",
   "nbconvert_exporter": "python",
   "pygments_lexer": "ipython3",
   "version": "3.13.5"
  }
 },
 "nbformat": 4,
 "nbformat_minor": 5
}
